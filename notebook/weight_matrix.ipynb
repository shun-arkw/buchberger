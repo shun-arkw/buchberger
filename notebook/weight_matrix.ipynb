{
 "cells": [
  {
   "cell_type": "markdown",
   "metadata": {},
   "source": [
    "# 自作のweight matrixだと変数が吸収される場合がある\n",
    "\n",
    "自作のweight matrixで単項式順序を決める場合以下の点に注意\n",
    "- weight matrixの行ベクトルは線形独立でなくてはいけない\n",
    "- weight matrixの各列のゼロではない最初の要素は，正でなくてなならない\n",
    "- weight matrixの成分が実数である場合，sagemath(singular)によってintにキャストされている(と思われる)．よって，なるべく大きい値を行列の成分とする．"
   ]
  },
  {
   "cell_type": "code",
   "execution_count": 1,
   "metadata": {
    "vscode": {
     "languageId": "python"
    }
   },
   "outputs": [
    {
     "name": "stdout",
     "output_type": "stream",
     "text": [
      "Requirement already satisfied: scipy in ./sage/local/var/lib/sage/venv-python3.10/lib/python3.10/site-packages (1.14.1)\n",
      "Requirement already satisfied: numpy<2.3,>=1.23.5 in ./sage/local/var/lib/sage/venv-python3.10/lib/python3.10/site-packages (from scipy) (1.26.4)\n",
      "Note: you may need to restart the kernel to use updated packages.\n",
      "Requirement already satisfied: numpy==1.26.4 in ./sage/local/var/lib/sage/venv-python3.10/lib/python3.10/site-packages (1.26.4)\n",
      "Note: you may need to restart the kernel to use updated packages.\n",
      "Requirement already satisfied: pulp in ./sage/local/var/lib/sage/venv-python3.10/lib/python3.10/site-packages (2.9.0)\n",
      "Note: you may need to restart the kernel to use updated packages.\n"
     ]
    }
   ],
   "source": [
    "%pwd\n",
    "%pip install --upgrade scipy\n",
    "%pip install numpy==1.26.4\n",
    "%pip install pulp\n",
    "\n",
    "import numpy as np\n",
    "\n",
    "load(\"/app/src/lib/sampler.sage\")\n",
    "load(\"/app/src/lib/buchberger.sage\")\n",
    "load(\"/app/src/lib/utils.sage\")\n",
    "load(\"/app/src/lib/differential_evolution.sage\")"
   ]
  },
  {
   "cell_type": "code",
   "execution_count": 2,
   "metadata": {
    "vscode": {
     "languageId": "python"
    }
   },
   "outputs": [
    {
     "name": "stdout",
     "output_type": "stream",
     "text": [
      "[[ 3.1  2.4  1.7]\n",
      " [ 0.9  0.5 -1.1]\n",
      " [ 0.3 -6.7  3.2]]\n",
      "3\n",
      "[[ 3  2  1]\n",
      " [ 0  0 -1]\n",
      " [ 0 -6  3]]\n",
      "3\n"
     ]
    }
   ],
   "source": [
    "params = np.array([3.1, 2.4, 1.7, 0.9, 0.5, -1.1, 0.3, -6.7, 3.2])\n",
    "# フルランクかどうかの判定\n",
    "variables = 3\n",
    "\n",
    "float_matrix = params.reshape(variables, variables)\n",
    "int_matrix = params.astype(int).reshape(variables, variables)\n",
    "\n",
    "rank = np.linalg.matrix_rank(float_matrix, tol=0.1)\n",
    "int_rank = np.linalg.matrix_rank(int_matrix)\n",
    "\n",
    "print(float_matrix)\n",
    "print(rank)\n",
    "\n",
    "print(int_matrix)\n",
    "print(int_rank)\n"
   ]
  },
  {
   "cell_type": "code",
   "execution_count": 140,
   "metadata": {
    "vscode": {
     "languageId": "python"
    }
   },
   "outputs": [
    {
     "name": "stdout",
     "output_type": "stream",
     "text": [
      "[[0.96168041 1.75629485 1.03297767]\n",
      " [0.97880411 0.79039639 1.81482471]\n",
      " [1.3235664  0.40796727 0.1810715 ]]\n",
      "rank 3\n",
      "\n",
      "[[0 1 1]\n",
      " [0 0 1]\n",
      " [1 0 0]]\n",
      "rank 3\n",
      "\n",
      "now  x2 + x1 + x0\n",
      "x0, x1, x2: (x0 + 1, x1 + 1, x2 + 1)\n",
      "1 < x0: True 1 < x1: True 1 < x2: True\n",
      "validation: True\n"
     ]
    }
   ],
   "source": [
    "M = np.random.uniform(0, 2, (3, 3))\n",
    "M_list = M.tolist()\n",
    "\n",
    "T = TermOrder(matrix(M_list))\n",
    "\n",
    "print(M)\n",
    "print('rank', np.linalg.matrix_rank(M, tol=0.1))\n",
    "print()\n",
    "\n",
    "M_int = M.astype(int)\n",
    "print(M_int)\n",
    "print('rank', np.linalg.matrix_rank(M_int))\n",
    "print()\n",
    "# # s = np.linalg.svdvals(M)\n",
    "# print(s[0]/s[-1])\n",
    "\n",
    "P = PolynomialRing(QQ, 3, 'x', order=T)\n",
    "x0, x1, x2 = P.gens()\n",
    "\n",
    "f = x0 + x1 + x2\n",
    "print(f'now  {f}')\n",
    "print(f'x0, x1, x2: {P(x0+1), P(x1+1),P(x2+1)}')\n",
    "print('1 < x0:', 1 < x0, '1 < x1:', 1 < x1, '1 < x2:', 1 < x2)\n",
    "\n",
    "\n",
    "print('validation:', validation(M_int))\n",
    "\n"
   ]
  },
  {
   "cell_type": "code",
   "execution_count": 4,
   "metadata": {
    "vscode": {
     "languageId": "python"
    }
   },
   "outputs": [
    {
     "data": {
      "text/plain": [
       "[   0.980265833370396   0.6652682528814213   0.3629002367809353]\n",
       "[  0.6645093898032481 -0.13291052860851016  -0.2872649990344369]\n",
       "[ -0.6160659131458779  0.25172741423172673  -0.3867440130836257]"
      ]
     },
     "execution_count": 4,
     "metadata": {},
     "output_type": "execute_result"
    }
   ],
   "source": [
    "P.term_order().matrix()"
   ]
  },
  {
   "cell_type": "code",
   "execution_count": 5,
   "metadata": {
    "vscode": {
     "languageId": "python"
    }
   },
   "outputs": [
    {
     "data": {
      "text/plain": [
       "{'_blocks': (),\n",
       " '_weights': (0.980265833370396, 0.6652682528814213, 0.3629002367809353),\n",
       " '_matrix': [   0.980265833370396   0.6652682528814213   0.3629002367809353]\n",
       " [  0.6645093898032481 -0.13291052860851016  -0.2872649990344369]\n",
       " [ -0.6160659131458779  0.25172741423172673  -0.3867440130836257],\n",
       " '_singular_moreblocks': 0,\n",
       " '_singular_ringorder_column': None,\n",
       " '_length': 3,\n",
       " '_name': 'matrix',\n",
       " '_singular_str': 'M(0,0,0,0,0,0,0,0,0)',\n",
       " '_macaulay2_str': '',\n",
       " '_magma_str': '\"weight\",[0,0,0,0,0,0,0,0,0]',\n",
       " '__doc__': '\\nMatrix term order defined by a matrix A.\\n\\n`x^a < x^b` if and only if `x^{Aa} < x^{Ab}` where `<` is the lexicographic term order.\\n'}"
      ]
     },
     "execution_count": 5,
     "metadata": {},
     "output_type": "execute_result"
    }
   ],
   "source": [
    "vars(T)"
   ]
  },
  {
   "cell_type": "code",
   "execution_count": 6,
   "metadata": {
    "vscode": {
     "languageId": "python"
    }
   },
   "outputs": [
    {
     "data": {
      "text/plain": [
       "2"
      ]
     },
     "execution_count": 6,
     "metadata": {},
     "output_type": "execute_result"
    }
   ],
   "source": [
    "Mat = np.array([0,0,1,-1,0,0,0,0,3])\n",
    "Mat = Mat.reshape(3,3)\n",
    "np.linalg.matrix_rank(Mat, tol=0.001)"
   ]
  },
  {
   "cell_type": "code",
   "execution_count": 7,
   "metadata": {
    "vscode": {
     "languageId": "python"
    }
   },
   "outputs": [
    {
     "name": "stdout",
     "output_type": "stream",
     "text": [
      "[[ 0.98026583  0.66526825  0.36290024]\n",
      " [ 0.66450939 -0.13291053 -0.287265  ]\n",
      " [-0.61606591  0.25172741 -0.38674401]]\n"
     ]
    },
    {
     "data": {
      "text/plain": [
       "array([ 1.02816849, -0.42017553, -0.1350166 ])"
      ]
     },
     "execution_count": 7,
     "metadata": {},
     "output_type": "execute_result"
    }
   ],
   "source": [
    "print(M)\n",
    "np.sum(M[:,1:], axis=1)"
   ]
  },
  {
   "cell_type": "code",
   "execution_count": 8,
   "metadata": {
    "vscode": {
     "languageId": "python"
    }
   },
   "outputs": [
    {
     "name": "stdout",
     "output_type": "stream",
     "text": [
      "{'_blocks': (), '_weights': (0.980265833370396, 0.6652682528814213, 0.3629002367809353), '_matrix': [   0.980265833370396   0.6652682528814213   0.3629002367809353]\n",
      "[  0.6645093898032481 -0.13291052860851016  -0.2872649990344369]\n",
      "[ -0.6160659131458779  0.25172741423172673  -0.3867440130836257], '_singular_moreblocks': 0, '_singular_ringorder_column': None, '_length': 3, '_name': 'matrix', '_singular_str': 'M(0,0,0,0,0,0,0,0,0)', '_macaulay2_str': '', '_magma_str': '\"weight\",[0,0,0,0,0,0,0,0,0]', '__doc__': '\\nMatrix term order defined by a matrix A.\\n\\n`x^a < x^b` if and only if `x^{Aa} < x^{Ab}` where `<` is the lexicographic term order.\\n'}\n",
      "Matrix term order with matrix\n",
      "[   0.980265833370396   0.6652682528814213   0.3629002367809353]\n",
      "[  0.6645093898032481 -0.13291052860851016  -0.2872649990344369]\n",
      "[ -0.6160659131458779  0.25172741423172673  -0.3867440130836257]\n",
      "3*x0\n"
     ]
    }
   ],
   "source": [
    "print(vars(T))\n",
    "print(T)\n",
    "print(f)"
   ]
  },
  {
   "cell_type": "code",
   "execution_count": 9,
   "metadata": {
    "vscode": {
     "languageId": "python"
    }
   },
   "outputs": [
    {
     "data": {
      "text/plain": [
       "{'_blocks': (),\n",
       " '_weights': None,\n",
       " '_matrix': None,\n",
       " '_singular_moreblocks': 0,\n",
       " '_singular_ringorder_column': None,\n",
       " '_length': 0,\n",
       " '_name': 'lex',\n",
       " '_singular_str': 'lp',\n",
       " '_macaulay2_str': 'Lex',\n",
       " '_magma_str': '\"lex\"',\n",
       " '__doc__': '\\nLexicographic (lex) term order.\\n\\n`x^a < x^b` if and only if there exists `1 \\\\le i \\\\le n` such that `a_1 = b_1, \\\\dots, a_{i-1} = b_{i-1}, a_i < b_i`.\\n'}"
      ]
     },
     "execution_count": 9,
     "metadata": {},
     "output_type": "execute_result"
    }
   ],
   "source": [
    "vars(TermOrder('lex'))"
   ]
  },
  {
   "cell_type": "code",
   "execution_count": 14,
   "metadata": {
    "vscode": {
     "languageId": "python"
    }
   },
   "outputs": [
    {
     "ename": "TypeError",
     "evalue": "'numpy.ndarray' object is not callable",
     "output_type": "error",
     "traceback": [
      "\u001b[0;31m---------------------------------------------------------------------------\u001b[0m",
      "\u001b[0;31mTypeError\u001b[0m                                 Traceback (most recent call last)",
      "Cell \u001b[0;32mIn[14], line 4\u001b[0m\n\u001b[1;32m      1\u001b[0m \u001b[38;5;66;03m# P = PolynomialRing(QQ, variables, 'x', order=TermOrder(matrix_))\u001b[39;00m\n\u001b[1;32m      2\u001b[0m \u001b[38;5;66;03m# x0, x1, x2 = P.gens()\u001b[39;00m\n\u001b[0;32m----> 4\u001b[0m m_lex \u001b[38;5;241m=\u001b[39m \u001b[43mmatrix\u001b[49m\u001b[43m(\u001b[49m\u001b[43m[\u001b[49m\u001b[43m[\u001b[49m\u001b[43mInteger\u001b[49m\u001b[43m(\u001b[49m\u001b[38;5;241;43m1\u001b[39;49m\u001b[43m)\u001b[49m\u001b[43m,\u001b[49m\u001b[43mInteger\u001b[49m\u001b[43m(\u001b[49m\u001b[38;5;241;43m0\u001b[39;49m\u001b[43m)\u001b[49m\u001b[43m,\u001b[49m\u001b[43mInteger\u001b[49m\u001b[43m(\u001b[49m\u001b[38;5;241;43m0\u001b[39;49m\u001b[43m)\u001b[49m\u001b[43m]\u001b[49m\u001b[43m,\u001b[49m\u001b[43m \u001b[49m\u001b[43m[\u001b[49m\u001b[43mInteger\u001b[49m\u001b[43m(\u001b[49m\u001b[38;5;241;43m0\u001b[39;49m\u001b[43m)\u001b[49m\u001b[43m,\u001b[49m\u001b[43mInteger\u001b[49m\u001b[43m(\u001b[49m\u001b[38;5;241;43m1\u001b[39;49m\u001b[43m)\u001b[49m\u001b[43m,\u001b[49m\u001b[43mInteger\u001b[49m\u001b[43m(\u001b[49m\u001b[38;5;241;43m0\u001b[39;49m\u001b[43m)\u001b[49m\u001b[43m]\u001b[49m\u001b[43m,\u001b[49m\u001b[43m \u001b[49m\u001b[43m[\u001b[49m\u001b[43mInteger\u001b[49m\u001b[43m(\u001b[49m\u001b[38;5;241;43m0\u001b[39;49m\u001b[43m)\u001b[49m\u001b[43m,\u001b[49m\u001b[43mInteger\u001b[49m\u001b[43m(\u001b[49m\u001b[38;5;241;43m0\u001b[39;49m\u001b[43m)\u001b[49m\u001b[43m,\u001b[49m\u001b[43mInteger\u001b[49m\u001b[43m(\u001b[49m\u001b[38;5;241;43m1\u001b[39;49m\u001b[43m)\u001b[49m\u001b[43m]\u001b[49m\u001b[43m]\u001b[49m\u001b[43m)\u001b[49m\n\u001b[1;32m      5\u001b[0m T1 \u001b[38;5;241m=\u001b[39m TermOrder(m_lex)\n\u001b[1;32m      7\u001b[0m matrix \u001b[38;5;241m=\u001b[39m randint(Integer(\u001b[38;5;241m0\u001b[39m), Integer(\u001b[38;5;241m1\u001b[39m), (Integer(\u001b[38;5;241m3\u001b[39m), Integer(\u001b[38;5;241m3\u001b[39m)))\n",
      "\u001b[0;31mTypeError\u001b[0m: 'numpy.ndarray' object is not callable"
     ]
    }
   ],
   "source": [
    "# P = PolynomialRing(QQ, variables, 'x', order=TermOrder(matrix_))\n",
    "# x0, x1, x2 = P.gens()\n",
    "\n",
    "m_lex = matrix([[1,0,0], [0,1,0], [0,0,1]])\n",
    "T1 = TermOrder(m_lex)\n",
    "\n",
    "matrix = randint(0, 1, (3, 3))\n",
    "print(matrix)\n",
    "\n",
    "# T = TermOrder(matrix([[1,1.5,1], [1,0.3,-1], [1,-1,1]]))\n",
    "\n",
    "# P = PolynomialRing(QQ, 3, 'x', order=T)\n",
    "# x0, x1, x2 = P.gens()\n",
    "# polynomial_list = [-17/6*x0^2*x1*x2 + 17/13*x0*x2 + 17/14*x1^4*x2^5, 9/10*x0*x1*x2 + 3/10*x1^2 - 8/15*x1*x2^2 + 5/9*x1]\n",
    "# print(f'now  {polynomial_list}')"
   ]
  },
  {
   "cell_type": "code",
   "execution_count": 11,
   "metadata": {
    "vscode": {
     "languageId": "python"
    }
   },
   "outputs": [],
   "source": [
    "# A = np.array([[1, 1, 4, 0, 1],\n",
    "#               [0, 3, 1, 3, 2],\n",
    "#               [1, 3, 0, 0, 1],\n",
    "#               [2, 4, 3, 1, 1]]) # Aを定義する。\n",
    "\n",
    "# np.linalg.matrix_rank(A) # Aのランクを計算する。\n",
    "# type(A)"
   ]
  },
  {
   "cell_type": "code",
   "execution_count": 12,
   "metadata": {
    "vscode": {
     "languageId": "python"
    }
   },
   "outputs": [
    {
     "ename": "TypeError",
     "evalue": "'numpy.ndarray' object is not callable",
     "output_type": "error",
     "traceback": [
      "\u001b[0;31m---------------------------------------------------------------------------\u001b[0m",
      "\u001b[0;31mTypeError\u001b[0m                                 Traceback (most recent call last)",
      "Cell \u001b[0;32mIn[12], line 1\u001b[0m\n\u001b[0;32m----> 1\u001b[0m m_grevlex \u001b[38;5;241m=\u001b[39m \u001b[43mmatrix\u001b[49m\u001b[43m(\u001b[49m\u001b[43m[\u001b[49m\u001b[43m[\u001b[49m\u001b[43mInteger\u001b[49m\u001b[43m(\u001b[49m\u001b[38;5;241;43m1\u001b[39;49m\u001b[43m)\u001b[49m\u001b[43m,\u001b[49m\u001b[43mInteger\u001b[49m\u001b[43m(\u001b[49m\u001b[38;5;241;43m1\u001b[39;49m\u001b[43m)\u001b[49m\u001b[43m,\u001b[49m\u001b[43mInteger\u001b[49m\u001b[43m(\u001b[49m\u001b[38;5;241;43m1\u001b[39;49m\u001b[43m)\u001b[49m\u001b[43m]\u001b[49m\u001b[43m,\u001b[49m\u001b[43m \u001b[49m\n\u001b[1;32m      2\u001b[0m \u001b[43m                    \u001b[49m\u001b[43m[\u001b[49m\u001b[43mInteger\u001b[49m\u001b[43m(\u001b[49m\u001b[38;5;241;43m0\u001b[39;49m\u001b[43m)\u001b[49m\u001b[43m,\u001b[49m\u001b[43mInteger\u001b[49m\u001b[43m(\u001b[49m\u001b[38;5;241;43m0\u001b[39;49m\u001b[43m)\u001b[49m\u001b[43m,\u001b[49m\u001b[38;5;241;43m-\u001b[39;49m\u001b[43mInteger\u001b[49m\u001b[43m(\u001b[49m\u001b[38;5;241;43m1\u001b[39;49m\u001b[43m)\u001b[49m\u001b[43m]\u001b[49m\u001b[43m,\u001b[49m\u001b[43m \u001b[49m\n\u001b[1;32m      3\u001b[0m \u001b[43m                    \u001b[49m\u001b[43m[\u001b[49m\u001b[43mInteger\u001b[49m\u001b[43m(\u001b[49m\u001b[38;5;241;43m0\u001b[39;49m\u001b[43m)\u001b[49m\u001b[43m,\u001b[49m\u001b[38;5;241;43m-\u001b[39;49m\u001b[43mInteger\u001b[49m\u001b[43m(\u001b[49m\u001b[38;5;241;43m1\u001b[39;49m\u001b[43m)\u001b[49m\u001b[43m,\u001b[49m\u001b[43mInteger\u001b[49m\u001b[43m(\u001b[49m\u001b[38;5;241;43m0\u001b[39;49m\u001b[43m)\u001b[49m\u001b[43m]\u001b[49m\u001b[43m]\u001b[49m\u001b[43m)\u001b[49m\n\u001b[1;32m      6\u001b[0m T3 \u001b[38;5;241m=\u001b[39m TermOrder(m_grevlex)\n\u001b[1;32m      7\u001b[0m P_grevlex \u001b[38;5;241m=\u001b[39m PolynomialRing(QQ, Integer(\u001b[38;5;241m3\u001b[39m), \u001b[38;5;124m'\u001b[39m\u001b[38;5;124mx\u001b[39m\u001b[38;5;124m'\u001b[39m, order\u001b[38;5;241m=\u001b[39mT3)\n",
      "\u001b[0;31mTypeError\u001b[0m: 'numpy.ndarray' object is not callable"
     ]
    }
   ],
   "source": [
    "m_grevlex = matrix([[1,1,1], \n",
    "                    [0,0,-1], \n",
    "                    [0,-1,0]])\n",
    "\n",
    "\n",
    "T3 = TermOrder(m_grevlex)\n",
    "P_grevlex = PolynomialRing(QQ, 3, 'x', order=T3)\n",
    "x0, x1, x2 = P_grevlex.gens()\n",
    "polynomial_list = [-17/6*x0^2*x1*x2 + 17/13*x0*x2 + 17/14*x1^4*x2^5, 9/10*x0*x1*x2 + 3/10*x1^2 - 8/15*x1*x2^2 + 5/9*x1]\n",
    "buchberger(P_grevlex, polynomial_list)"
   ]
  },
  {
   "cell_type": "code",
   "execution_count": null,
   "metadata": {
    "vscode": {
     "languageId": "python"
    }
   },
   "outputs": [],
   "source": []
  }
 ],
 "metadata": {
  "kernelspec": {
   "display_name": "SageMath 10.3",
   "language": "sage",
   "name": "sagemath"
  },
  "language_info": {
   "codemirror_mode": {
    "name": "ipython",
    "version": 3
   },
   "file_extension": ".py",
   "mimetype": "text/x-python",
   "name": "sage",
   "nbconvert_exporter": "python",
   "pygments_lexer": "ipython3",
   "version": "3.10.12"
  }
 },
 "nbformat": 4,
 "nbformat_minor": 2
}
