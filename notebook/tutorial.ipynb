{
 "cells": [
  {
   "cell_type": "markdown",
   "metadata": {},
   "source": [
    "# sagemath色々お試し"
   ]
  },
  {
   "cell_type": "markdown",
   "metadata": {},
   "source": [
    "# pytorch使える"
   ]
  },
  {
   "cell_type": "code",
   "execution_count": 2,
   "metadata": {
    "vscode": {
     "languageId": "python"
    }
   },
   "outputs": [
    {
     "name": "stdout",
     "output_type": "stream",
     "text": [
      "Requirement already satisfied: pip in ./sage/local/var/lib/sage/venv-python3.10/lib/python3.10/site-packages (24.2)\n",
      "Note: you may need to restart the kernel to use updated packages.\n"
     ]
    }
   ],
   "source": [
    "%pip install --upgrade pip"
   ]
  },
  {
   "cell_type": "code",
   "execution_count": 3,
   "metadata": {
    "vscode": {
     "languageId": "python"
    }
   },
   "outputs": [
    {
     "name": "stdout",
     "output_type": "stream",
     "text": [
      "Requirement already satisfied: torch in ./sage/local/var/lib/sage/venv-python3.10/lib/python3.10/site-packages (2.3.1)\n",
      "Requirement already satisfied: filelock in ./sage/local/var/lib/sage/venv-python3.10/lib/python3.10/site-packages (from torch) (3.13.1)\n",
      "Requirement already satisfied: typing-extensions>=4.8.0 in ./sage/local/var/lib/sage/venv-python3.10/lib/python3.10/site-packages (from torch) (4.8.0)\n",
      "Requirement already satisfied: sympy in ./sage/local/var/lib/sage/venv-python3.10/lib/python3.10/site-packages (from torch) (1.12)\n",
      "Requirement already satisfied: networkx in ./sage/local/var/lib/sage/venv-python3.10/lib/python3.10/site-packages (from torch) (3.2.1)\n",
      "Requirement already satisfied: jinja2 in ./sage/local/var/lib/sage/venv-python3.10/lib/python3.10/site-packages (from torch) (3.1.3)\n",
      "Requirement already satisfied: fsspec in ./sage/local/var/lib/sage/venv-python3.10/lib/python3.10/site-packages (from torch) (2024.6.1)\n",
      "Requirement already satisfied: nvidia-cuda-nvrtc-cu12==12.1.105 in ./sage/local/var/lib/sage/venv-python3.10/lib/python3.10/site-packages (from torch) (12.1.105)\n",
      "Requirement already satisfied: nvidia-cuda-runtime-cu12==12.1.105 in ./sage/local/var/lib/sage/venv-python3.10/lib/python3.10/site-packages (from torch) (12.1.105)\n",
      "Requirement already satisfied: nvidia-cuda-cupti-cu12==12.1.105 in ./sage/local/var/lib/sage/venv-python3.10/lib/python3.10/site-packages (from torch) (12.1.105)\n",
      "Requirement already satisfied: nvidia-cudnn-cu12==8.9.2.26 in ./sage/local/var/lib/sage/venv-python3.10/lib/python3.10/site-packages (from torch) (8.9.2.26)\n",
      "Requirement already satisfied: nvidia-cublas-cu12==12.1.3.1 in ./sage/local/var/lib/sage/venv-python3.10/lib/python3.10/site-packages (from torch) (12.1.3.1)\n",
      "Requirement already satisfied: nvidia-cufft-cu12==11.0.2.54 in ./sage/local/var/lib/sage/venv-python3.10/lib/python3.10/site-packages (from torch) (11.0.2.54)\n",
      "Requirement already satisfied: nvidia-curand-cu12==10.3.2.106 in ./sage/local/var/lib/sage/venv-python3.10/lib/python3.10/site-packages (from torch) (10.3.2.106)\n",
      "Requirement already satisfied: nvidia-cusolver-cu12==11.4.5.107 in ./sage/local/var/lib/sage/venv-python3.10/lib/python3.10/site-packages (from torch) (11.4.5.107)\n",
      "Requirement already satisfied: nvidia-cusparse-cu12==12.1.0.106 in ./sage/local/var/lib/sage/venv-python3.10/lib/python3.10/site-packages (from torch) (12.1.0.106)\n",
      "Requirement already satisfied: nvidia-nccl-cu12==2.20.5 in ./sage/local/var/lib/sage/venv-python3.10/lib/python3.10/site-packages (from torch) (2.20.5)\n",
      "Requirement already satisfied: nvidia-nvtx-cu12==12.1.105 in ./sage/local/var/lib/sage/venv-python3.10/lib/python3.10/site-packages (from torch) (12.1.105)\n",
      "Requirement already satisfied: triton==2.3.1 in ./sage/local/var/lib/sage/venv-python3.10/lib/python3.10/site-packages (from torch) (2.3.1)\n",
      "Requirement already satisfied: nvidia-nvjitlink-cu12 in ./sage/local/var/lib/sage/venv-python3.10/lib/python3.10/site-packages (from nvidia-cusolver-cu12==11.4.5.107->torch) (12.5.82)\n",
      "Requirement already satisfied: MarkupSafe>=2.0 in ./sage/local/var/lib/sage/venv-python3.10/lib/python3.10/site-packages (from jinja2->torch) (2.1.4)\n",
      "Requirement already satisfied: mpmath>=0.19 in ./sage/local/var/lib/sage/venv-python3.10/lib/python3.10/site-packages (from sympy->torch) (1.3.0)\n",
      "Note: you may need to restart the kernel to use updated packages.\n"
     ]
    }
   ],
   "source": [
    "%pip install torch"
   ]
  },
  {
   "cell_type": "code",
   "execution_count": 4,
   "metadata": {
    "vscode": {
     "languageId": "python"
    }
   },
   "outputs": [
    {
     "data": {
      "text/plain": [
       "True"
      ]
     },
     "execution_count": 4,
     "metadata": {},
     "output_type": "execute_result"
    }
   ],
   "source": [
    "import torch\n",
    "torch.cuda.is_available()"
   ]
  },
  {
   "cell_type": "code",
   "execution_count": 5,
   "metadata": {
    "vscode": {
     "languageId": "python"
    }
   },
   "outputs": [
    {
     "data": {
      "text/plain": [
       "'2.3.1+cu121'"
      ]
     },
     "execution_count": 5,
     "metadata": {},
     "output_type": "execute_result"
    }
   ],
   "source": [
    "torch.__version__"
   ]
  },
  {
   "cell_type": "code",
   "execution_count": null,
   "metadata": {
    "vscode": {
     "languageId": "python"
    }
   },
   "outputs": [],
   "source": []
  },
  {
   "cell_type": "code",
   "execution_count": null,
   "metadata": {
    "vscode": {
     "languageId": "python"
    }
   },
   "outputs": [],
   "source": [
    "from lib.utils import terms_distribution, total_degree_distribution, random_polynomials"
   ]
  },
  {
   "cell_type": "markdown",
   "metadata": {},
   "source": [
    "# 環の定義"
   ]
  },
  {
   "cell_type": "markdown",
   "metadata": {},
   "source": [
    "環の定義方法はいくつかある"
   ]
  },
  {
   "cell_type": "code",
   "execution_count": null,
   "metadata": {
    "vscode": {
     "languageId": "python"
    }
   },
   "outputs": [],
   "source": [
    "P.<x, y, z> = PolynomialRing(QQ, 3, order='deglex') # lex, deglex, degrevlex"
   ]
  },
  {
   "cell_type": "code",
   "execution_count": null,
   "metadata": {
    "vscode": {
     "languageId": "python"
    }
   },
   "outputs": [],
   "source": [
    "R = PolynomialRing(QQ, 'x, y, z', order='deglex') # lex, deglex, degrevlex\n",
    "x, y, z = R.gens()\n",
    "\n",
    "f = x ^ 3 - y ^ 3\n",
    "g = x - y\n",
    "h = 3 * x ^ 4\n",
    "f.gcd(g)"
   ]
  },
  {
   "cell_type": "code",
   "execution_count": null,
   "metadata": {
    "vscode": {
     "languageId": "python"
    }
   },
   "outputs": [],
   "source": [
    "R.term_order()"
   ]
  },
  {
   "cell_type": "markdown",
   "metadata": {},
   "source": [
    "# 多項式"
   ]
  },
  {
   "cell_type": "markdown",
   "metadata": {},
   "source": [
    "## 基本"
   ]
  },
  {
   "cell_type": "code",
   "execution_count": null,
   "metadata": {
    "vscode": {
     "languageId": "python"
    }
   },
   "outputs": [],
   "source": [
    "Ring = PolynomialRing(QQ, 'x, y, z', order='deglex') # lex, deglex, degrevlex\n",
    "f = Ring.random_element(degree=4, terms=3, choose_degree=True)\n",
    "# x,y,z = Ring.gens()\n",
    "# f = x^2 + 1 + 3\n",
    "print(f)\n"
   ]
  },
  {
   "cell_type": "code",
   "execution_count": null,
   "metadata": {
    "vscode": {
     "languageId": "python"
    }
   },
   "outputs": [],
   "source": [
    "print(f.lm()) # sympyだと f.LM\n",
    "print(f.lt())\n",
    "print(f.lc())\n",
    "\n",
    "print(f.constant_coefficient())\n",
    "print(f.dict())\n",
    "\n",
    "print(f.monomials())\n",
    "print(f.exponents())\n",
    "\n",
    "print(f.is_monomial())\n",
    "print(f.is_term())"
   ]
  },
  {
   "cell_type": "markdown",
   "metadata": {},
   "source": [
    "## 多項式同士の演算"
   ]
  },
  {
   "cell_type": "code",
   "execution_count": null,
   "metadata": {
    "vscode": {
     "languageId": "python"
    }
   },
   "outputs": [],
   "source": [
    "Ring = PolynomialRing(QQ, 'x, y, z', order='deglex') # lex, deglex, degrevlex\n",
    "x,y,z = Ring.gens()\n"
   ]
  },
  {
   "cell_type": "code",
   "execution_count": null,
   "metadata": {
    "vscode": {
     "languageId": "python"
    }
   },
   "outputs": [],
   "source": [
    "lcm = Ring.monomial_lcm # Sageでの最小公倍数関数\n",
    "F = [2*x^3*y^2 - x^2*y^3 + x, x^4*y + y^2]\n",
    "print(lcm(F[0], F[1]))\n",
    "\n",
    "\n",
    "div = Ring.monomial_divides  # 割り切るかどうか div(A, B) AがBを割り切るときTrue。sympyとは引数の順番が逆\n",
    "print(div(x, 3*x^3))\n",
    "\n",
    "quotient = Ring.monomial_quotient # 必ず、割り切れることを確認してから。quotient(A, B): A / B\n",
    "print(quotient(3/2*x*y, x, coeff=True))\n",
    "print(quotient(3/2*x*y, z, coeff=True)) # バグる\n",
    "\n",
    "\n",
    "remainder = operator.floordiv\n",
    "\n",
    "mul = operator.mul # 掛け算（標準の掛け算）\n",
    "print(mul(x + 1, x - 1))\n"
   ]
  },
  {
   "cell_type": "markdown",
   "metadata": {},
   "source": [
    "# 各単項式順序でのソート"
   ]
  },
  {
   "cell_type": "markdown",
   "metadata": {},
   "source": [
    "lexでソート"
   ]
  },
  {
   "cell_type": "code",
   "execution_count": null,
   "metadata": {
    "vscode": {
     "languageId": "python"
    }
   },
   "outputs": [],
   "source": [
    "P_lex = PolynomialRing(QQ, 'x, y, z', order='lex')\n",
    "x, y, z = P_lex.gens()\n",
    "A = [x^3, x^2*z^2, x*y^2*z, z^2]\n",
    "A.sort(reverse=True)\n",
    "A"
   ]
  },
  {
   "cell_type": "markdown",
   "metadata": {},
   "source": [
    "grlexでソート"
   ]
  },
  {
   "cell_type": "code",
   "execution_count": null,
   "metadata": {
    "vscode": {
     "languageId": "python"
    }
   },
   "outputs": [],
   "source": [
    "import numpy as np\n",
    "P_grlex = PolynomialRing(QQ, 'x, y, z', order='deglex')\n",
    "x, y, z = P_grlex.gens()\n",
    "A = [x^3, x^2*z^2, x*y^2*z, z^2]\n",
    "print(np.argmin(A))\n",
    "print(np.argmax(A))\n",
    "A.sort(reverse=True)\n",
    "A"
   ]
  },
  {
   "cell_type": "markdown",
   "metadata": {},
   "source": [
    "grevlexでソート"
   ]
  },
  {
   "cell_type": "code",
   "execution_count": null,
   "metadata": {
    "vscode": {
     "languageId": "python"
    }
   },
   "outputs": [],
   "source": [
    "P_grevlex = PolynomialRing(QQ, 'x, y, z', order='degrevlex')\n",
    "x, y, z = P_grevlex.gens()\n",
    "A = [x^3, x^2*z^2, x*y^2*z, z^2, z^2]\n",
    "print(np.argmin(A))\n",
    "print(np.argmax(A))\n",
    "A.sort(reverse=True)\n",
    "A"
   ]
  },
  {
   "cell_type": "markdown",
   "metadata": {},
   "source": [
    "# グレブナー基底"
   ]
  },
  {
   "cell_type": "code",
   "execution_count": null,
   "metadata": {
    "vscode": {
     "languageId": "python"
    }
   },
   "outputs": [],
   "source": [
    "ring = PolynomialRing(GF(32003), 'x, y, z', )\n",
    "F = [ring.random_element() for _ in range(2)]\n",
    "print(F)\n",
    "\n",
    "I = Ideal(F)\n",
    "gb = I.groebner_basis()\n",
    "print(gb)\n",
    "Ideal(gb).basis_is_groebner()"
   ]
  },
  {
   "cell_type": "code",
   "execution_count": null,
   "metadata": {
    "vscode": {
     "languageId": "python"
    }
   },
   "outputs": [],
   "source": [
    "I.basis_is_groebner()"
   ]
  },
  {
   "cell_type": "markdown",
   "metadata": {},
   "source": [
    "# random_element(choose_degree=True)の検証"
   ]
  },
  {
   "cell_type": "code",
   "execution_count": null,
   "metadata": {
    "vscode": {
     "languageId": "python"
    }
   },
   "outputs": [],
   "source": [
    "P_lex = PolynomialRing(QQ, 'x, y, z', order='lex')\n",
    "\n",
    "\n",
    "F = random_polynomials(P_lex, degree=5, generators=100, max_terms=4, min_terms=1, choose_degree=True, eliminate_constant_term=True)\n",
    "\n",
    "print(total_degree_distribution(F))\n",
    "terms_distribution(F)\n"
   ]
  },
  {
   "cell_type": "code",
   "execution_count": null,
   "metadata": {
    "vscode": {
     "languageId": "python"
    }
   },
   "outputs": [],
   "source": [
    "from collections import defaultdict\n",
    "ring = PolynomialRing(QQ, 'x', 1) # 1変数\n",
    "funcs = []\n",
    "\n",
    "for i in range(20):\n",
    "    funcs.append(ring.random_element(degree=4, terms=1, choose_degree=True))\n",
    "\n",
    "\n",
    "dict = defaultdict(lambda: 0)\n",
    "\n",
    "for fun in funcs:\n",
    "\tdeg = fun.total_degree()\n",
    "\t\n",
    "\tdict[deg] += 1\n",
    "\n",
    "\tif deg == -1 or deg == 0:\n",
    "\t\tprint(fun)\n",
    "\n",
    "print(sorted(dict.items()))"
   ]
  },
  {
   "cell_type": "code",
   "execution_count": null,
   "metadata": {
    "vscode": {
     "languageId": "python"
    }
   },
   "outputs": [],
   "source": []
  },
  {
   "cell_type": "code",
   "execution_count": null,
   "metadata": {
    "vscode": {
     "languageId": "python"
    }
   },
   "outputs": [],
   "source": []
  }
 ],
 "metadata": {
  "kernelspec": {
   "display_name": "SageMath 10.3",
   "language": "sage",
   "name": "sagemath"
  },
  "language_info": {
   "codemirror_mode": {
    "name": "ipython",
    "version": 3
   },
   "file_extension": ".py",
   "mimetype": "text/x-python",
   "name": "sage",
   "nbconvert_exporter": "python",
   "pygments_lexer": "ipython3",
   "version": "3.10.12"
  }
 },
 "nbformat": 4,
 "nbformat_minor": 2
}
