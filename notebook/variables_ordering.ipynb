{
 "cells": [
  {
   "cell_type": "markdown",
   "metadata": {},
   "source": [
    "# lex順序内で変数順序を変えて実験"
   ]
  },
  {
   "cell_type": "code",
   "execution_count": 2,
   "metadata": {},
   "outputs": [],
   "source": [
    "load(\"/app/src/lib/sampler.sage\")\n",
    "load(\"/app/src/lib/buchberger.sage\")\n",
    "load(\"/app/src/lib/utils.sage\")"
   ]
  },
  {
   "cell_type": "code",
   "execution_count": 4,
   "metadata": {},
   "outputs": [
    {
     "data": {
      "text/plain": [
       "'2.1.1'"
      ]
     },
     "execution_count": 4,
     "metadata": {},
     "output_type": "execute_result"
    }
   ],
   "source": [
    "import numpy as np\n",
    "import itertools\n",
    "\n",
    "np.__version__"
   ]
  },
  {
   "cell_type": "code",
   "execution_count": 4,
   "metadata": {},
   "outputs": [],
   "source": [
    "P_grevlex = PolynomialRing(QQ, 3, 'x', order='degrevlex')"
   ]
  },
  {
   "cell_type": "code",
   "execution_count": 24,
   "metadata": {},
   "outputs": [
    {
     "data": {
      "text/plain": [
       "[10*x0^3*x1^5 - 1/2*x0^2*x2^5, 2/3*x0^7*x2^2 - 2*x1*x2^7]"
      ]
     },
     "execution_count": 24,
     "metadata": {},
     "output_type": "execute_result"
    }
   ],
   "source": [
    "conditions = {  'max_degree'      : 10, \n",
    "                'min_degree'      : 2,\n",
    "                'max_num_terms'   : 3, \n",
    "                'max_coeff'       : 20,\n",
    "                'num_bound'       : 10,\n",
    "                'nonzero_instance': True,}\n",
    "\n",
    "psampler = Polynomial_Sampler(P_grevlex, \n",
    "                            degree_sampling='uniform', \n",
    "                            term_sampling='uniform', \n",
    "                            strictly_conditioned=True, \n",
    "                            conditions=conditions)\n",
    "\n",
    "set_random_seed(1)\n",
    "F = psampler.sample(num_samples=2)\n",
    "F"
   ]
  },
  {
   "cell_type": "code",
   "execution_count": 33,
   "metadata": {},
   "outputs": [
    {
     "data": {
      "text/plain": [
       "[(array([[1, 0, 0],\n",
       "         [0, 1, 0],\n",
       "         [0, 0, 1]]),\n",
       "  21),\n",
       " (array([[1, 0, 0],\n",
       "         [0, 0, 1],\n",
       "         [0, 1, 0]]),\n",
       "  21),\n",
       " (array([[0, 1, 0],\n",
       "         [1, 0, 0],\n",
       "         [0, 0, 1]]),\n",
       "  15),\n",
       " (array([[0, 1, 0],\n",
       "         [0, 0, 1],\n",
       "         [1, 0, 0]]),\n",
       "  15),\n",
       " (array([[0, 0, 1],\n",
       "         [1, 0, 0],\n",
       "         [0, 1, 0]]),\n",
       "  4),\n",
       " (array([[0, 0, 1],\n",
       "         [0, 1, 0],\n",
       "         [1, 0, 0]]),\n",
       "  4)]"
      ]
     },
     "execution_count": 33,
     "metadata": {},
     "output_type": "execute_result"
    }
   ],
   "source": [
    "# 3つのリスト\n",
    "lists = [[1, 0, 0], [0, 1, 0], [0, 0, 1]]\n",
    "\n",
    "# リストのすべての順列を取得し、それぞれを連結する\n",
    "all_combinations = [sum(p, []) for p in itertools.permutations(lists)]\n",
    "\n",
    "# 結果を表示\n",
    "result = []\n",
    "for combination in all_combinations:\n",
    "    additions, GB = output_additions(combination, F, 3, True)\n",
    "    result.append((np.array(combination).reshape(3,3), additions))\n",
    "    \n",
    "result"
   ]
  },
  {
   "cell_type": "code",
   "execution_count": 34,
   "metadata": {},
   "outputs": [
    {
     "name": "stdout",
     "output_type": "stream",
     "text": [
      "[1 0 0]\n",
      "[0 1 0]\n",
      "[0 0 1]\n"
     ]
    },
    {
     "data": {
      "text/plain": [
       "([x1^37*x2^7 - 1/3840000000*x1*x2^37,\n",
       "  x0*x1*x2^32 - 192000000*x1^32*x2^7,\n",
       "  x0*x1^6*x2^7 - 1/20*x1*x2^12,\n",
       "  x0^2*x2^27 - 9600000*x1^26*x2^7,\n",
       "  x0^3*x2^22 - 480000*x1^21*x2^7,\n",
       "  x0^3*x1^5 - 1/20*x0^2*x2^5,\n",
       "  x0^4*x2^17 - 24000*x1^16*x2^7,\n",
       "  x0^5*x2^12 - 1200*x1^11*x2^7,\n",
       "  x0^6*x2^7 - 60*x1^6*x2^7,\n",
       "  x0^7*x2^2 - 3*x1*x2^7],\n",
       " {'zero_reductions': 7,\n",
       "  'nonzero_reductions': 8,\n",
       "  'polynomial_additions': 21,\n",
       "  'total_reward': -21.0000000000000,\n",
       "  'discounted_return': -19.4784981491940})"
      ]
     },
     "execution_count": 34,
     "metadata": {},
     "output_type": "execute_result"
    }
   ],
   "source": [
    "variables = 3\n",
    "matrix_ = matrix(3, all_combinations[0])\n",
    "print(matrix_)\n",
    "\n",
    "P = PolynomialRing(QQ, variables, 'x', order=TermOrder(matrix_))\n",
    "# P = PolynomialRing(QQ, variables, 'x', order='degrevlex')\n",
    "# cal_groebner_basis(P, F)\n",
    "\n",
    "buchberger(P, F, )"
   ]
  },
  {
   "cell_type": "code",
   "execution_count": 2,
   "metadata": {},
   "outputs": [
    {
     "ename": "NameError",
     "evalue": "name 'np' is not defined",
     "output_type": "error",
     "traceback": [
      "\u001b[0;31m---------------------------------------------------------------------------\u001b[0m",
      "\u001b[0;31mNameError\u001b[0m                                 Traceback (most recent call last)",
      "Cell \u001b[0;32mIn[2], line 1\u001b[0m\n\u001b[0;32m----> 1\u001b[0m \u001b[43mnp\u001b[49m\u001b[38;5;241m.\u001b[39m__version__\n",
      "\u001b[0;31mNameError\u001b[0m: name 'np' is not defined"
     ]
    }
   ],
   "source": [
    "np.__version__"
   ]
  },
  {
   "cell_type": "code",
   "execution_count": null,
   "metadata": {},
   "outputs": [],
   "source": []
  }
 ],
 "metadata": {
  "kernelspec": {
   "display_name": "SageMath 10.3",
   "language": "sage",
   "name": "sagemath"
  },
  "language_info": {
   "codemirror_mode": {
    "name": "ipython",
    "version": 3
   },
   "file_extension": ".py",
   "mimetype": "text/x-python",
   "name": "python",
   "nbconvert_exporter": "python",
   "pygments_lexer": "ipython3",
   "version": "3.10.12"
  }
 },
 "nbformat": 4,
 "nbformat_minor": 2
}
