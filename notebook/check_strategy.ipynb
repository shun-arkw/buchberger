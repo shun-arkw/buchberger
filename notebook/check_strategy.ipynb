{
 "cells": [
  {
   "cell_type": "markdown",
   "metadata": {},
   "source": [
    "# buchberger algorithmにおいて、Sペア戦略がちゃんと機能しているのかの確認\n"
   ]
  },
  {
   "cell_type": "code",
   "execution_count": 1,
   "metadata": {
    "vscode": {
     "languageId": "python"
    }
   },
   "outputs": [],
   "source": [
    "import numpy as np\n",
    "\n",
    "# from src.polynomial_sampler import  Polynomial_Sampler\n",
    "load(\"/app/src/lib/sampler.sage\")\n",
    "load(\"/app/src/lib/buchberger.sage\")\n",
    "load(\"/app/src/lib/utils.sage\")"
   ]
  },
  {
   "cell_type": "markdown",
   "metadata": {},
   "source": [
    "環の定義"
   ]
  },
  {
   "cell_type": "code",
   "execution_count": 2,
   "metadata": {
    "vscode": {
     "languageId": "python"
    }
   },
   "outputs": [],
   "source": [
    "field = GF(32003)\n",
    "# field = QQ"
   ]
  },
  {
   "cell_type": "code",
   "execution_count": 19,
   "metadata": {
    "vscode": {
     "languageId": "python"
    }
   },
   "outputs": [],
   "source": [
    "m_lex = matrix([[1,0,0], \n",
    "                [0,1,0], \n",
    "                [0,0,1]])\n",
    "\n",
    "m_grlex = matrix([[1,1,1], \n",
    "                  [1,0,0], \n",
    "                  [0,1,0]])\n",
    "\n",
    "m_grevlex = matrix([[1,1,1], \n",
    "                    [0,0,-1], \n",
    "                    [0,-1,0]])\n",
    "\n",
    "T1 = TermOrder(m_lex)\n",
    "T2 = TermOrder(m_grlex)\n",
    "T3 = TermOrder(m_grevlex)\n",
    "\n",
    "\n",
    "Ring_lex = PolynomialRing(field, 'x, y, z', order=T1)\n",
    "Ring_grlex = PolynomialRing(field, 'x, y, z', order=T2)\n",
    "Ring_grevlex = PolynomialRing(field, 'x, y, z', order=T3)"
   ]
  },
  {
   "cell_type": "markdown",
   "metadata": {},
   "source": [
    "多項式をサンプル"
   ]
  },
  {
   "cell_type": "code",
   "execution_count": 20,
   "metadata": {
    "vscode": {
     "languageId": "python"
    }
   },
   "outputs": [
    {
     "data": {
      "text/plain": [
       "[[-6663*x^3*z^2 + 9647*x*y^3*z, 14449*x*z + 1142*y^2 - 2501],\n",
       " [-5615*x*y + 8485*y^3*z - 11173*y^2*z^2, 13702*x^7*z^2],\n",
       " [-13875*x^2*z - 14111*y*z, -8386*x^2*z - 9901*z^10],\n",
       " [7406*x^2*y^4 - 4072*z, 8898*y^2*z^3],\n",
       " [-13567*x^6*y^2 - 15351*x^5*z + 1500*y*z, -11069*z^4],\n",
       " [-7583*x^5*y^2*z^3, -14144*x*z],\n",
       " [-14970*x*y^2*z^4 - 11675, -2896*x^4*y^6],\n",
       " [-10135*x^3*y^2*z - 1656*x*z^3 + 11084*y^3*z^4, 2233*x^3*y^5*z],\n",
       " [9034*x^3*z^7 - 12267*x*z, 3362*x + 14122*z^2 - 7544],\n",
       " [-11450*x*z - 4356*y^2 + 12217, 3927*x*y^2*z^2 - 1709*x*z^3 + 7884]]"
      ]
     },
     "execution_count": 20,
     "metadata": {},
     "output_type": "execute_result"
    }
   ],
   "source": [
    "conditions = {  'max_degree'      : 10, \n",
    "                'min_degree'      : 2,\n",
    "                'max_num_terms'   : 3, \n",
    "                'max_coeff'       : 20,\n",
    "                'num_bound'       : 10,\n",
    "                'nonzero_instance': True,}\n",
    "\n",
    "psampler = Polynomial_Sampler(Ring_lex, \n",
    "                            degree_sampling='uniform', \n",
    "                            term_sampling='uniform', \n",
    "                            strictly_conditioned=True, \n",
    "                            conditions=conditions)\n",
    "data = []\n",
    "# set_random_seed(0)\n",
    "for i in range(10):\n",
    "    set_random_seed(i) # seed値の設定\n",
    "    F = psampler.sample(num_samples=2)\n",
    "    data.append(F)\n",
    "\n",
    "data"
   ]
  },
  {
   "cell_type": "markdown",
   "metadata": {},
   "source": [
    "buchberger algorithm"
   ]
  },
  {
   "cell_type": "code",
   "execution_count": 22,
   "metadata": {
    "vscode": {
     "languageId": "python"
    }
   },
   "outputs": [
    {
     "name": "stdout",
     "output_type": "stream",
     "text": [
      "first 11\n",
      "degree 11\n",
      "normal 11\n",
      "random 11\n",
      "\n",
      "first 38\n",
      "degree 38\n",
      "normal 38\n",
      "random 38\n",
      "\n",
      "first 4\n",
      "degree 4\n",
      "normal 4\n",
      "random 4\n",
      "\n",
      "first 2\n",
      "degree 2\n",
      "normal 2\n",
      "random 2\n",
      "\n",
      "first 0\n",
      "degree 0\n",
      "normal 0\n",
      "random 0\n",
      "\n",
      "first 1\n",
      "degree 1\n",
      "normal 1\n",
      "random 1\n",
      "\n",
      "first 7\n",
      "degree 7\n",
      "normal 7\n",
      "random 7\n",
      "\n",
      "first 17\n",
      "degree 15\n",
      "normal 15\n",
      "random 17\n",
      "\n",
      "first 7\n",
      "degree 7\n",
      "normal 7\n",
      "random 7\n",
      "\n",
      "first 11\n",
      "degree 11\n",
      "normal 11\n",
      "random 11\n",
      "\n"
     ]
    }
   ],
   "source": [
    "\n",
    "Ring = Ring_lex\n",
    "strategies = ['first', 'degree', 'normal', 'random']\n",
    "\n",
    "for F in data:\n",
    "    for strategy in strategies:\n",
    "        GB, stats = buchberger(Ring, F, select_strategy=strategy)\n",
    "        add = stats['polynomial_additions']\n",
    "        print(strategy, add)\n",
    "    print()"
   ]
  },
  {
   "cell_type": "code",
   "execution_count": null,
   "metadata": {
    "vscode": {
     "languageId": "python"
    }
   },
   "outputs": [],
   "source": []
  }
 ],
 "metadata": {
  "kernelspec": {
   "display_name": "SageMath 10.3",
   "language": "sage",
   "name": "sagemath"
  },
  "language_info": {
   "codemirror_mode": {
    "name": "ipython",
    "version": 3
   },
   "file_extension": ".py",
   "mimetype": "text/x-python",
   "name": "sage",
   "nbconvert_exporter": "python",
   "pygments_lexer": "ipython3",
   "version": "3.10.12"
  }
 },
 "nbformat": 4,
 "nbformat_minor": 2
}
