{
 "cells": [
  {
   "cell_type": "markdown",
   "metadata": {},
   "source": [
    "# matrix term order\n",
    "重み行列によって単項式順序を決める"
   ]
  },
  {
   "cell_type": "code",
   "execution_count": null,
   "metadata": {
    "vscode": {
     "languageId": "python"
    }
   },
   "outputs": [],
   "source": [
    "# lex, deglex, degrevlex\n",
    "P_lex = PolynomialRing(QQ, 'x, y, z', order='lex')\n",
    "P_grevlex = PolynomialRing(QQ, 'x, y, z', order='degrevlex')"
   ]
  },
  {
   "cell_type": "code",
   "execution_count": 5,
   "metadata": {
    "vscode": {
     "languageId": "python"
    }
   },
   "outputs": [
    {
     "name": "stdout",
     "output_type": "stream",
     "text": [
      "Matrix term order with matrix\n",
      "[1 0 0]\n",
      "[0 1 0]\n",
      "[0 0 1]\n",
      "[1 0 0]\n",
      "[0 1 0]\n",
      "[0 0 1]\n",
      "<class 'sage.matrix.matrix_integer_dense.Matrix_integer_dense'>\n"
     ]
    },
    {
     "data": {
      "text/plain": [
       "(1, 2, 0)"
      ]
     },
     "execution_count": 5,
     "metadata": {},
     "output_type": "execute_result"
    }
   ],
   "source": [
    "m_lex = matrix([[1,0,0],\n",
    "        [0,1,0],\n",
    "        [0,0,1]])\n",
    "\n",
    "m_grevlex = matrix([[1,1,1],\n",
    "                    [1,1,0],\n",
    "                    [1,0,0]])\n",
    "\n",
    "T1 = TermOrder(m_lex)\n",
    "T2 = TermOrder(m_grevlex)\n",
    "\n",
    "P = PolynomialRing(QQ, 'x, y, z', order=T1)\n",
    "\n",
    "print(P.term_order())\n",
    "\n",
    "print(T1.matrix())\n",
    "\n",
    "print(type(T1.matrix()))\n",
    "T1.matrix() * vector([1, 2, 0])\n",
    "P.term_order().matrix() * vector([1, 2, 0])"
   ]
  },
  {
   "cell_type": "code",
   "execution_count": 14,
   "metadata": {
    "vscode": {
     "languageId": "python"
    }
   },
   "outputs": [
    {
     "name": "stdout",
     "output_type": "stream",
     "text": [
      "6*x*y - 17/180*z^2 - 3*x\n",
      "6*x*y - 17/180*z^2 - 3*x\n",
      "True\n",
      "6*x*y - 3*x - 17/180*z^2\n",
      "True\n"
     ]
    }
   ],
   "source": [
    "P_matrix_grevlex = PolynomialRing(QQ, 'x, y, z', order=T2)\n",
    "P_grevlex = PolynomialRing(QQ, 'x, y, z', order='degrevlex')\n",
    "P_grlex = PolynomialRing(QQ, 'x, y, z', order='deglex')\n",
    "P_lex = PolynomialRing(QQ, 'x, y, z', order='lex')\n",
    "\n",
    "f = P_matrix_grevlex.random_element()\n",
    "print(f)\n",
    "\n",
    "g = P_grevlex(f)\n",
    "print(g)\n",
    "\n",
    "print(f == g)\n",
    "\n",
    "h = P_lex(f)\n",
    "print(h)\n",
    "\n",
    "print(f == h)"
   ]
  },
  {
   "cell_type": "code",
   "execution_count": 41,
   "metadata": {
    "vscode": {
     "languageId": "python"
    }
   },
   "outputs": [
    {
     "name": "stdout",
     "output_type": "stream",
     "text": [
      "6*x*y - 17/180*z^2 - 3*x\n",
      "[6, -17/180, -3]\n",
      "[(1, 1, 0), (0, 0, 2), (1, 0, 0)]\n"
     ]
    },
    {
     "data": {
      "text/plain": [
       "(1, 1, 0)"
      ]
     },
     "execution_count": 41,
     "metadata": {},
     "output_type": "execute_result"
    }
   ],
   "source": [
    "print(f)\n",
    "print(f.coefficients())\n",
    "print(f.exponents())\n",
    "\n",
    "monomial = f.lm()\n",
    "vector(monomial.exponents().pop())"
   ]
  },
  {
   "cell_type": "code",
   "execution_count": 37,
   "metadata": {
    "vscode": {
     "languageId": "python"
    }
   },
   "outputs": [
    {
     "name": "stdout",
     "output_type": "stream",
     "text": [
      "Lexicographic term order\n",
      "None\n",
      "block\n",
      "block\n"
     ]
    }
   ],
   "source": [
    "P_lex = PolynomialRing(QQ, 'x, y, z', order='lex')\n",
    "print(P_lex.term_order())\n",
    "print(P_lex.term_order().matrix())\n",
    "\n",
    "P_multi = PolynomialRing(QQ, 'a, b, c, d, e, f', order='degrevlex(4), neglex(2)')\n",
    "print(P_multi.term_order().name())\n",
    "\n",
    "T1 = TermOrder('degrevlex', 4)\n",
    "T2 = TermOrder('neglex', 2)\n",
    "\n",
    "P_multi2 = PolynomialRing(QQ, 'a, b, c, d, e, f', order=T1+T2)\n",
    "print(P_multi2.term_order().name())"
   ]
  },
  {
   "cell_type": "markdown",
   "metadata": {},
   "source": [
    "### 「２つの多項式が等しい、かつ単項式順序が一致」を判定"
   ]
  },
  {
   "cell_type": "code",
   "execution_count": 78,
   "metadata": {
    "vscode": {
     "languageId": "python"
    }
   },
   "outputs": [
    {
     "name": "stdout",
     "output_type": "stream",
     "text": [
      "f : 1/20*x*z + 10*y*z + z^2\n",
      "g : 1/20*x*z + 10*y*z + z^2\n"
     ]
    },
    {
     "data": {
      "text/plain": [
       "True"
      ]
     },
     "execution_count": 78,
     "metadata": {},
     "output_type": "execute_result"
    }
   ],
   "source": [
    "def compare_polynomials(p1, p2):\n",
    "    \n",
    "    # 係数\n",
    "    p1_coef = p1.coefficients()\n",
    "    p2_coef = p2.coefficients()\n",
    "\n",
    "    # 指数ベクトル\n",
    "    p1_expo = p1.exponents()\n",
    "    p2_expo = p2.exponents()\n",
    "\n",
    "    if (p1_coef == p2_coef) and (p1_expo == p2_expo):\n",
    "        return True\n",
    "    else:\n",
    "        return False\n",
    "\n",
    "# x, y, z = P_grevlex.gens()\n",
    "# f = -1/3*y^2 + 2*x*z + 1/2*y*z - y\n",
    "\n",
    "f = P_grevlex.random_element()\n",
    "g = P_lex(f)\n",
    "\n",
    "print(f'f : {f}')\n",
    "print(f'g : {g}')\n",
    "compare_polynomials(f, g)\n"
   ]
  },
  {
   "cell_type": "code",
   "execution_count": null,
   "metadata": {
    "vscode": {
     "languageId": "python"
    }
   },
   "outputs": [],
   "source": []
  },
  {
   "cell_type": "code",
   "execution_count": null,
   "metadata": {
    "vscode": {
     "languageId": "python"
    }
   },
   "outputs": [],
   "source": []
  }
 ],
 "metadata": {
  "kernelspec": {
   "display_name": "SageMath 10.3",
   "language": "sage",
   "name": "sagemath"
  },
  "language_info": {
   "codemirror_mode": {
    "name": "ipython",
    "version": 3
   },
   "file_extension": ".py",
   "mimetype": "text/x-python",
   "name": "sage",
   "nbconvert_exporter": "python",
   "pygments_lexer": "ipython3",
   "version": "3.10.12"
  }
 },
 "nbformat": 4,
 "nbformat_minor": 2
}
