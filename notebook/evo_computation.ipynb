{
 "cells": [
  {
   "cell_type": "markdown",
   "metadata": {},
   "source": [
    "# 自作のweight matrixだと変数が吸収される場合がある\n",
    "\n",
    "自作のweight matrixで単項式順序を決める場合以下の点に注意\n",
    "・"
   ]
  },
  {
   "cell_type": "code",
   "execution_count": 4,
   "metadata": {
    "vscode": {
     "languageId": "python"
    }
   },
   "outputs": [
    {
     "data": {
      "text/plain": [
       "'1.26.4'"
      ]
     },
     "execution_count": 4,
     "metadata": {},
     "output_type": "execute_result"
    }
   ],
   "source": [
    "import numpy as np\n",
    "np.__version__"
   ]
  },
  {
   "cell_type": "code",
   "execution_count": 2,
   "metadata": {
    "vscode": {
     "languageId": "python"
    }
   },
   "outputs": [
    {
     "name": "stdout",
     "output_type": "stream",
     "text": [
      "Requirement already satisfied: scipy in ./sage/local/var/lib/sage/venv-python3.10/lib/python3.10/site-packages (1.14.1)\n",
      "Requirement already satisfied: numpy<2.3,>=1.23.5 in ./sage/local/var/lib/sage/venv-python3.10/lib/python3.10/site-packages (from scipy) (1.26.4)\n",
      "Note: you may need to restart the kernel to use updated packages.\n",
      "Requirement already satisfied: numpy==1.26.4 in ./sage/local/var/lib/sage/venv-python3.10/lib/python3.10/site-packages (1.26.4)\n",
      "Note: you may need to restart the kernel to use updated packages.\n",
      "Requirement already satisfied: pulp in ./sage/local/var/lib/sage/venv-python3.10/lib/python3.10/site-packages (2.9.0)\n",
      "Note: you may need to restart the kernel to use updated packages.\n"
     ]
    }
   ],
   "source": [
    "%pwd\n",
    "%pip install --upgrade scipy\n",
    "%pip install numpy==1.26.4\n",
    "%pip install pulp\n",
    "\n",
    "import numpy as np\n",
    "\n",
    "load(\"/app/src/lib/sampler.sage\")\n",
    "load(\"/app/src/lib/buchberger.sage\")\n",
    "load(\"/app/src/lib/utils.sage\")\n",
    "load(\"/app/src/lib/differential_evolution.sage\")"
   ]
  },
  {
   "cell_type": "code",
   "execution_count": 71,
   "metadata": {
    "vscode": {
     "languageId": "python"
    }
   },
   "outputs": [
    {
     "name": "stdout",
     "output_type": "stream",
     "text": [
      "[[ 3  2  1]\n",
      " [ 0  0 -1]\n",
      " [ 0 -6  3]]\n",
      "3\n"
     ]
    }
   ],
   "source": [
    "params = np.array([3.1, 2.4, 1.7, 0.9, 0.5, -1.1, 0.3, -6.7, 3.2])\n",
    "# フルランクかどうかの判定\n",
    "variables = 3\n",
    "int_matrix = np.array(list(map(int, params))).reshape(variables, variables)\n",
    "rank = np.linalg.matrix_rank(int_matrix)\n",
    "print(int_matrix)\n",
    "print(rank)\n"
   ]
  },
  {
   "cell_type": "code",
   "execution_count": 111,
   "metadata": {
    "vscode": {
     "languageId": "python"
    }
   },
   "outputs": [
    {
     "name": "stdout",
     "output_type": "stream",
     "text": [
      "[[ 0.23670016  0.41960864  0.77861938]\n",
      " [-0.86078706 -0.26111843 -0.60990079]\n",
      " [-0.08692064  0.55729737  0.24005217]]\n",
      "rank 3\n",
      "now  3*x0\n",
      "[ 1.43492818 -1.73180627  0.7104289 ]\n",
      "0\n",
      "x0, x1, x2: (x0, x1, x2)\n",
      "x0, x1, x2: (2*x0, 2*x1, 2*x2)\n",
      "[[0 0 0]\n",
      " [0 0 0]\n",
      " [0 0 0]]\n",
      "validation: False\n"
     ]
    },
    {
     "data": {
      "text/plain": [
       "False"
      ]
     },
     "execution_count": 111,
     "metadata": {},
     "output_type": "execute_result"
    }
   ],
   "source": [
    "import numpy as np\n",
    "# M = np.random.randn(3,3) # 後で修正　一様な確率で値を取る\n",
    "M = np.random.uniform(-1, 1, (3, 3))\n",
    "\n",
    "T = TermOrder(matrix(M.tolist()))\n",
    "print(M)\n",
    "print('rank', np.linalg.matrix_rank(M, tol=0.1))\n",
    "\n",
    "# # s = np.linalg.svdvals(M)\n",
    "# print(s[0]/s[-1])\n",
    "\n",
    "P = PolynomialRing(QQ, 3, 'x', order=T)\n",
    "x0, x1, x2 = P.gens()\n",
    "\n",
    "f = x0 + x1 + x2\n",
    "print(f'now  {f}')\n",
    "print(np.sum(M, axis=1))\n",
    "print(np.argmax(np.sum(M, axis=1)))\n",
    "print(f'x0, x1, x2: {x0+0, x1+0, x2+0}')\n",
    "print(f'x0, x1, x2: {P(x0+1), P(x1+1),P(x2+1)}')\n",
    "\n",
    "M_int = M.astype(int)\n",
    "print(M_int)\n",
    "print('validation:', validation(M_int))\n",
    "\n",
    "x0 > x1"
   ]
  },
  {
   "cell_type": "code",
   "execution_count": 120,
   "metadata": {
    "vscode": {
     "languageId": "python"
    }
   },
   "outputs": [
    {
     "data": {
      "text/plain": [
       "[ -0.203728856889124  1.0924125732623968  0.7379993531613699]\n",
       "[ 1.8199822140671946 0.34312381419093807  0.4638214898109969]\n",
       "[ 1.2226876686369712 0.16672179475548043   1.061517104639763]"
      ]
     },
     "execution_count": 120,
     "metadata": {},
     "output_type": "execute_result"
    }
   ],
   "source": [
    "P.term_order().matrix()"
   ]
  },
  {
   "cell_type": "code",
   "execution_count": 79,
   "metadata": {
    "vscode": {
     "languageId": "python"
    }
   },
   "outputs": [
    {
     "data": {
      "text/plain": [
       "{'_blocks': (),\n",
       " '_weights': (1.922909501601129, 1.526552888388681, 0.23848089221453517),\n",
       " '_matrix': [  1.922909501601129   1.526552888388681 0.23848089221453517]\n",
       " [ 0.4296442401699777 0.20367747421771087  2.9787591582465396]\n",
       " [  1.606434390697848  1.0535169621570302  1.3026206165787158],\n",
       " '_singular_moreblocks': 0,\n",
       " '_singular_ringorder_column': None,\n",
       " '_length': 3,\n",
       " '_name': 'matrix',\n",
       " '_singular_str': 'M(1,1,0,0,0,2,1,1,1)',\n",
       " '_macaulay2_str': '',\n",
       " '_magma_str': '\"weight\",[1,1,0,0,0,2,1,1,1]',\n",
       " '__doc__': '\\nMatrix term order defined by a matrix A.\\n\\n`x^a < x^b` if and only if `x^{Aa} < x^{Ab}` where `<` is the lexicographic term order.\\n'}"
      ]
     },
     "execution_count": 79,
     "metadata": {},
     "output_type": "execute_result"
    }
   ],
   "source": [
    "vars(T)"
   ]
  },
  {
   "cell_type": "code",
   "execution_count": null,
   "metadata": {
    "vscode": {
     "languageId": "python"
    }
   },
   "outputs": [],
   "source": [
    "Mat = np.array([0,0,1,-1,0,0,0,0,3])\n",
    "Mat = Mat.reshape(3,3)\n",
    "np.linalg.matrix_rank(Mat, tol=0.001)"
   ]
  },
  {
   "cell_type": "code",
   "execution_count": null,
   "metadata": {
    "vscode": {
     "languageId": "python"
    }
   },
   "outputs": [],
   "source": [
    "print(M)\n",
    "np.sum(M[:,1:], axis=1)"
   ]
  },
  {
   "cell_type": "code",
   "execution_count": null,
   "metadata": {
    "vscode": {
     "languageId": "python"
    }
   },
   "outputs": [],
   "source": [
    "print(vars(T))\n",
    "print(T)\n",
    "print(f)"
   ]
  },
  {
   "cell_type": "code",
   "execution_count": null,
   "metadata": {
    "vscode": {
     "languageId": "python"
    }
   },
   "outputs": [],
   "source": [
    "vars(TermOrder('lex'))"
   ]
  },
  {
   "cell_type": "code",
   "execution_count": null,
   "metadata": {
    "vscode": {
     "languageId": "python"
    }
   },
   "outputs": [],
   "source": [
    "# P = PolynomialRing(QQ, variables, 'x', order=TermOrder(matrix_))\n",
    "# x0, x1, x2 = P.gens()\n",
    "\n",
    "m_lex = matrix([[1,0,0], [0,1,0], [0,0,1]])\n",
    "T1 = TermOrder(m_lex)\n",
    "\n",
    "matrix = randint(0, 1, (3, 3))\n",
    "print(matrix)\n",
    "\n",
    "# T = TermOrder(matrix([[1,1.5,1], [1,0.3,-1], [1,-1,1]]))\n",
    "\n",
    "# P = PolynomialRing(QQ, 3, 'x', order=T)\n",
    "# x0, x1, x2 = P.gens()\n",
    "# polynomial_list = [-17/6*x0^2*x1*x2 + 17/13*x0*x2 + 17/14*x1^4*x2^5, 9/10*x0*x1*x2 + 3/10*x1^2 - 8/15*x1*x2^2 + 5/9*x1]\n",
    "# print(f'now  {polynomial_list}')"
   ]
  },
  {
   "cell_type": "code",
   "execution_count": null,
   "metadata": {
    "vscode": {
     "languageId": "python"
    }
   },
   "outputs": [],
   "source": [
    "# A = np.array([[1, 1, 4, 0, 1],\n",
    "#               [0, 3, 1, 3, 2],\n",
    "#               [1, 3, 0, 0, 1],\n",
    "#               [2, 4, 3, 1, 1]]) # Aを定義する。\n",
    "\n",
    "# np.linalg.matrix_rank(A) # Aのランクを計算する。\n",
    "# type(A)"
   ]
  },
  {
   "cell_type": "code",
   "execution_count": null,
   "metadata": {
    "vscode": {
     "languageId": "python"
    }
   },
   "outputs": [],
   "source": [
    "m_grevlex = matrix([[1,1,1], \n",
    "                    [0,0,-1], \n",
    "                    [0,-1,0]])\n",
    "\n",
    "\n",
    "T3 = TermOrder(m_grevlex)\n",
    "P_grevlex = PolynomialRing(QQ, 3, 'x', order=T3)\n",
    "x0, x1, x2 = P_grevlex.gens()\n",
    "polynomial_list = [-17/6*x0^2*x1*x2 + 17/13*x0*x2 + 17/14*x1^4*x2^5, 9/10*x0*x1*x2 + 3/10*x1^2 - 8/15*x1*x2^2 + 5/9*x1]\n",
    "buchberger(P_grevlex, polynomial_list)"
   ]
  },
  {
   "cell_type": "code",
   "execution_count": null,
   "metadata": {
    "vscode": {
     "languageId": "python"
    }
   },
   "outputs": [],
   "source": []
  }
 ],
 "metadata": {
  "kernelspec": {
   "display_name": "SageMath 10.3",
   "language": "sage",
   "name": "sagemath"
  },
  "language_info": {
   "codemirror_mode": {
    "name": "ipython",
    "version": 3
   },
   "file_extension": ".py",
   "mimetype": "text/x-python",
   "name": "sage",
   "nbconvert_exporter": "python",
   "pygments_lexer": "ipython3",
   "version": "3.10.12"
  }
 },
 "nbformat": 4,
 "nbformat_minor": 2
}
