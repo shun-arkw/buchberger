{
 "cells": [
  {
   "cell_type": "code",
   "execution_count": 36,
   "metadata": {
    "vscode": {
     "languageId": "python"
    }
   },
   "outputs": [
    {
     "name": "stdout",
     "output_type": "stream",
     "text": [
      "{'gb': [x0 + 2*x2 + 2*x1 - 1, x1*x2 + 2*x1^2 + 16001*x1, x2^2 + 10666*x1^2 - 10668*x2 + 10668*x1, x1^3 - 13716*x1^2 + 1143*x1], 'zero_reductions': 1, 'nonzero_reductions': 3, 'polynomial_additions': 13, 'total_reward': -13.0000000000000, 'discounted_return': -12.7517950000000, 'success': True, 'elapsed_time': 0.0004754066467285156}\n"
     ]
    }
   ],
   "source": [
    "import numpy as np\n",
    "import matplotlib.pyplot as plt\n",
    "import time\n",
    "\n",
    "# load(\"/app/src/lib/buchberger.sage\")\n",
    "load(\"/app/src/lib/sampler.sage\")\n",
    "load(\"/app/src/lib/utils.sage\")\n",
    "load(\"/app/src/lib/count_num_additions.sage\")\n",
    "\n",
    "# これをしないと，sagemathが勝手にintやfloatをinteger型やRealNuber型に変換してしまうしてしまう\n",
    "preparser(False)"
   ]
  },
  {
   "cell_type": "code",
   "execution_count": 37,
   "metadata": {
    "vscode": {
     "languageId": "python"
    }
   },
   "outputs": [],
   "source": [
    "field = GF(32003)\n",
    "nvars = 3\n",
    "Ring = PolynomialRing(field, nvars, 'x', order='lex')\n",
    "\n",
    "conditions = {  'max_degree'      : 5, \n",
    "                'min_degree'      : 1,\n",
    "                'max_num_terms'   : 20, \n",
    "                'max_coeff'       : 20,\n",
    "                'num_bound'       : 20,\n",
    "                'nonzero_instance': True,}\n",
    "\n",
    "psampler = Polynomial_Sampler(Ring, \n",
    "                            degree_sampling='uniform', \n",
    "                            term_sampling='uniform', \n",
    "                            strictly_conditioned=True, \n",
    "                            conditions=conditions)\n"
   ]
  },
  {
   "cell_type": "code",
   "execution_count": 38,
   "metadata": {
    "vscode": {
     "languageId": "python"
    }
   },
   "outputs": [
    {
     "name": "stdout",
     "output_type": "stream",
     "text": [
      "[x0 + 2*x1 + 2*x2 - 1, x0^2 - x0 + 2*x1^2 + 2*x2^2, 2*x0*x1 + 2*x1*x2 - x1]\n",
      "[x0 + x1 + x2, x0*x1 + x0*x2 + x1*x2, x0*x1*x2 - 1]\n"
     ]
    }
   ],
   "source": [
    "nvars = 3\n",
    "deg = 20\n",
    "field = GF(32003)\n",
    "Ring = PolynomialRing(field, nvars, 'x', order='lex')\n",
    "# x0, x1, x2 = Ring.gens()\n",
    "I_katsura = sage.rings.ideal.Katsura(Ring, nvars) \n",
    "I_cyclic = sage.rings.ideal.Cyclic(Ring, nvars)\n",
    "F_katsura = list(I_katsura.gens())\n",
    "F_cyclic = list(I_cyclic.gens())\n",
    "print(F_katsura)\n",
    "print(F_cyclic)\n",
    "\n",
    "# f1 = x0**deg + x1**deg + x2**deg - 1\n",
    "# f2 = x0**(deg-1)*x1 + x1**(deg-1)*x2 + x2**(deg-1)*x0\n",
    "# f3 = x0 * x1 * x2 - 1\n",
    "\n",
    "# 方程式のリスト\n",
    "# fermat = [f1, f2, f3]\n",
    "# print(fermat)"
   ]
  },
  {
   "cell_type": "code",
   "execution_count": 39,
   "metadata": {
    "vscode": {
     "languageId": "python"
    }
   },
   "outputs": [],
   "source": [
    "polynomial_list = F_katsura"
   ]
  },
  {
   "cell_type": "code",
   "execution_count": 46,
   "metadata": {
    "vscode": {
     "languageId": "python"
    }
   },
   "outputs": [
    {
     "name": "stdout",
     "output_type": "stream",
     "text": [
      "{'gb': [x0 + 2*x2 + 2*x1 - 1, x1*x2 + 2*x1^2 + 16001*x1, x2^2 + 10666*x1^2 - 10668*x2 + 10668*x1, x1^3 - 13716*x1^2 + 1143*x1], 'zero_reductions': 1, 'nonzero_reductions': 3, 'polynomial_additions': 13, 'total_reward': -13.0000000000000, 'discounted_return': -12.7517950000000, 'success': True, 'elapsed_time': 0.0010266304016113281}\n",
      "0.0017805099487304688\n"
     ]
    }
   ],
   "source": [
    "\n",
    "# weight_matrix = np.array([716, 708, 712, 554, 921, -355, -200, 105, -883, 271, 447, -162, -859, -947, -319, -166]).reshape(nvars, nvars)\n",
    "# weight_matrix = np.array([631, 693, 698, 60, -266, -845, -378, -868, -274, -842, 832, 320, 286, -324, 187, -364]).reshape(nvars, nvars)\n",
    "weight_matrix = np.array([864, 686, 831, 234, -402, -907, 7, 667, -728]).reshape(nvars, nvars)\n",
    "\n",
    "threshold = 10000000\n",
    "# threshold = 10\n",
    "\n",
    "num_additions_counter = NumAdditionsCounter(coeff_field = field,\n",
    "                                            num_variables = nvars,\n",
    "                                            select_strategy = 'normal',\n",
    "                                            stop_algorithm = True,\n",
    "                                            threshold = threshold)\n",
    "start = time.time()\n",
    "ret = num_additions_counter.run(weight_matrix, polynomial_list)\n",
    "print(vars(ret))\n",
    "end = time.time()\n",
    "\n",
    "print(end-start)"
   ]
  },
  {
   "cell_type": "code",
   "execution_count": 29,
   "metadata": {
    "vscode": {
     "languageId": "python"
    }
   },
   "outputs": [
    {
     "name": "stdout",
     "output_type": "stream",
     "text": [
      "<__main__.OutputContent object at 0x728bce1caf50>\n",
      "0.001772165298461914\n"
     ]
    }
   ],
   "source": [
    "start = time.time()\n",
    "print(num_additions_counter.run(weight_matrix='grevlex', polynomial_list=polynomial_list))\n",
    "print(time.time()-start)"
   ]
  },
  {
   "cell_type": "code",
   "execution_count": 15,
   "metadata": {
    "vscode": {
     "languageId": "python"
    }
   },
   "outputs": [
    {
     "name": "stdout",
     "output_type": "stream",
     "text": [
      "([x2^4 - 15240*x2^3 + 381*x2^2 + 381*x2, x1 + 30*x2^3 - 9155*x2^2 + 13716*x2, x0 - 60*x2^3 - 13693*x2^2 + 4573*x2 - 1], 19)\n",
      "0.0016789436340332031\n"
     ]
    }
   ],
   "source": [
    "start = time.time()\n",
    "print(num_additions_counter.run(weight_matrix='lex', polynomial_list=polynomial_list))\n",
    "print(time.time()-start)"
   ]
  }
 ],
 "metadata": {
  "kernelspec": {
   "display_name": "SageMath 10.3",
   "language": "sage",
   "name": "sagemath"
  },
  "language_info": {
   "codemirror_mode": {
    "name": "ipython",
    "version": 3
   },
   "file_extension": ".py",
   "mimetype": "text/x-python",
   "name": "sage",
   "nbconvert_exporter": "python",
   "pygments_lexer": "ipython3",
   "version": "3.10.12"
  }
 },
 "nbformat": 4,
 "nbformat_minor": 2
}
